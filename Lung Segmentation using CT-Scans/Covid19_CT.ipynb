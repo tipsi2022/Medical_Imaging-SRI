{
  "nbformat": 4,
  "nbformat_minor": 0,
  "metadata": {
    "colab": {
      "name": "Covid19 CT.ipynb",
      "provenance": [],
      "collapsed_sections": []
    },
    "kernelspec": {
      "name": "python3",
      "display_name": "Python 3"
    },
    "language_info": {
      "name": "python"
    }
  },
  "cells": [
    {
      "cell_type": "markdown",
      "metadata": {
        "id": "3pJybJebcrJc"
      },
      "source": [
        "**DATASET DOWNLOAD FROM KAGGLE**\n",
        "\n",
        "1. Go to your kaggle account, Scroll to API section and Click Expire API Token to remove previous tokens.  \n",
        "2. Click on Create New API Token - It will download kaggle.json file on your machine.\n",
        "3. Run the following commands(Choose the kaggle.json file that you downloaded)."
      ]
    },
    {
      "cell_type": "code",
      "metadata": {
        "id": "IkTvGk9OcopP"
      },
      "source": [
        "! pip install -q kaggle\n",
        "from google.colab import files\n",
        "files.upload()\n",
        "! mkdir ~/.kaggle\n",
        "! cp kaggle.json ~/.kaggle/\n",
        "! chmod 600 ~/.kaggle/kaggle.json\n",
        "! kaggle datasets download -d tipsijadav/covid19-ct\n",
        "! unzip \\*.zip"
      ],
      "execution_count": null,
      "outputs": []
    },
    {
      "cell_type": "markdown",
      "metadata": {
        "id": "gmRXi7YQcsbs"
      },
      "source": [
        "**IMPORTING NECESSARY LIBRARIES**"
      ]
    },
    {
      "cell_type": "code",
      "metadata": {
        "id": "kuPUTXY_ctK_"
      },
      "source": [
        "import os\n",
        "import cv2\n",
        "import glob\n",
        "import numpy as np\n",
        "import pandas as pd\n",
        "import nibabel as nib\n",
        "import matplotlib.pyplot as plt\n",
        "%matplotlib inline"
      ],
      "execution_count": 2,
      "outputs": []
    },
    {
      "cell_type": "code",
      "metadata": {
        "id": "nuo5xNuRDr0T"
      },
      "source": [
        "import warnings\n",
        "warnings.filterwarnings('ignore')"
      ],
      "execution_count": 3,
      "outputs": []
    },
    {
      "cell_type": "code",
      "metadata": {
        "id": "svNYrjPBNVfo"
      },
      "source": [
        "from sklearn.model_selection import train_test_split"
      ],
      "execution_count": 4,
      "outputs": []
    },
    {
      "cell_type": "code",
      "metadata": {
        "id": "qTpi2RpTH91Z"
      },
      "source": [
        "import tensorflow as tf\n",
        "import tensorflow.keras.backend as K\n",
        "from tensorflow.keras.layers import Input\n",
        "from tensorflow.keras.models import Model\n",
        "from tensorflow.keras.layers import Conv2D\n",
        "from tensorflow.keras.layers import Concatenate\n",
        "from tensorflow.keras.layers import UpSampling2D\n",
        "from tensorflow.keras.layers import MaxPooling2D"
      ],
      "execution_count": 5,
      "outputs": []
    },
    {
      "cell_type": "code",
      "metadata": {
        "id": "HpLUCmCVICS7"
      },
      "source": [
        "tf.config.run_functions_eagerly(True)"
      ],
      "execution_count": 6,
      "outputs": []
    },
    {
      "cell_type": "markdown",
      "metadata": {
        "id": "UcOFieoJc1dl"
      },
      "source": [
        "**DEFINING PATH TO DATASET**"
      ]
    },
    {
      "cell_type": "code",
      "metadata": {
        "id": "FmkNP_km9YOe"
      },
      "source": [
        "image_path = '/content/ct_scans'\n",
        "mask_path = '/content/lung_mask'"
      ],
      "execution_count": 7,
      "outputs": []
    },
    {
      "cell_type": "markdown",
      "metadata": {
        "id": "AVmlp4u1c4Yh"
      },
      "source": [
        "**DATA EXTRCATION AND PRE-PROCESSING**"
      ]
    },
    {
      "cell_type": "code",
      "metadata": {
        "id": "ZMEaEa109ahB"
      },
      "source": [
        "def read_nii(filepath):\n",
        "    ct_scan = nib.load(filepath)\n",
        "    array = ct_scan.get_fdata()\n",
        "    array = np.rot90(np.array(array))\n",
        "    return(array)"
      ],
      "execution_count": 8,
      "outputs": []
    },
    {
      "cell_type": "code",
      "metadata": {
        "id": "o9MBi0gr9dDd"
      },
      "source": [
        "image_path_list = os.listdir(image_path)\n",
        "\n",
        "images = []\n",
        "masks = []\n",
        "for row in image_path_list:\n",
        "    image_path1 = os.path.join(image_path, row)\n",
        "    mask_path1 = os.path.join(mask_path, row)\n",
        "\n",
        "    image_read = read_nii(image_path1)\n",
        "    mask_read = read_nii(mask_path1) \n",
        "    \n",
        "    image_final = cv2.resize(image_read, (128, 128))        \n",
        "    mask_final = cv2.resize(mask_read, (128, 128))\n",
        "        \n",
        "    for i in range(image_final.shape[2]):\n",
        "        temp_image = np.expand_dims(image_final[...,i], axis=-1)\n",
        "    \n",
        "        images.append(temp_image)\n",
        "        masks.append(mask_final[...,i])"
      ],
      "execution_count": 9,
      "outputs": []
    },
    {
      "cell_type": "code",
      "metadata": {
        "id": "hJ1hSDfD9iDI"
      },
      "source": [
        "images = np.array(images)\n",
        "images = images/((images.max()) - (images.min()))"
      ],
      "execution_count": 10,
      "outputs": []
    },
    {
      "cell_type": "code",
      "metadata": {
        "id": "F-ilGZvSIfu2"
      },
      "source": [
        "masks = np.array(masks, dtype='int64')\n",
        "masks  = tf.one_hot(masks, 3, dtype='float64', axis=-1).numpy()"
      ],
      "execution_count": 11,
      "outputs": []
    },
    {
      "cell_type": "markdown",
      "metadata": {
        "id": "Tn1kun9jdC7U"
      },
      "source": [
        "**TRAIN/VALIDATION/TEST SPLIT**"
      ]
    },
    {
      "cell_type": "code",
      "metadata": {
        "id": "3sdhs9Wx9kfJ"
      },
      "source": [
        "x_train, test_images, y_train, test_masks = train_test_split(images, masks, test_size=0.2, random_state=0)"
      ],
      "execution_count": 12,
      "outputs": []
    },
    {
      "cell_type": "code",
      "metadata": {
        "id": "KBPtTQk89oKa"
      },
      "source": [
        "train_images, valid_images, train_masks, valid_masks = train_test_split(x_train, y_train, test_size=0.25, random_state=0)"
      ],
      "execution_count": 13,
      "outputs": []
    },
    {
      "cell_type": "markdown",
      "metadata": {
        "id": "Pp2zIsJCdGlQ"
      },
      "source": [
        "**CONVOLUTION BLOCKS**"
      ]
    },
    {
      "cell_type": "code",
      "metadata": {
        "id": "Uqppge9-9oQ9"
      },
      "source": [
        "#down sampling\n",
        "def down_samp(x, filters):\n",
        "    c = Conv2D(filters, (3, 3), padding=\"same\", strides=1, activation=\"relu\", kernel_initializer='he_normal')(x)\n",
        "    c = Conv2D(filters, (3, 3), padding=\"same\", strides=1, activation=\"relu\", kernel_initializer='he_normal')(c)\n",
        "    p = MaxPooling2D((2, 2), (2, 2))(c)\n",
        "    \n",
        "    return c, p\n",
        "    \n",
        "#bottleneck \n",
        "def bottlenock(x, filters):\n",
        "    c = Conv2D(filters, (3, 3), padding=\"same\", strides=1, activation=\"relu\", kernel_initializer='he_normal')(x)\n",
        "    c = Conv2D(filters, (3, 3), padding=\"same\", strides=1, activation=\"relu\", kernel_initializer='he_normal')(c)\n",
        "    \n",
        "    return c\n",
        "    \n",
        "#up sampling\n",
        "def up_samp(x, skip, filters):\n",
        "    us = UpSampling2D((2, 2))(x)\n",
        "    conc = Concatenate()([us, skip])\n",
        "    c = Conv2D(filters, (3, 3), padding=\"same\", strides=1, activation=\"relu\", kernel_initializer='he_normal')(conc)\n",
        "    c = Conv2D(filters, (3, 3), padding=\"same\", strides=1, activation=\"relu\", kernel_initializer='he_normal')(c)\n",
        "    \n",
        "    return c"
      ],
      "execution_count": 14,
      "outputs": []
    },
    {
      "cell_type": "markdown",
      "metadata": {
        "id": "L7NzNuhJd32N"
      },
      "source": [
        "**UNET ARCHITECTURE**"
      ]
    },
    {
      "cell_type": "code",
      "metadata": {
        "id": "aFChV2Oj9oaz"
      },
      "source": [
        "def unet():\n",
        "    f = [8, 16, 32]\n",
        "    \n",
        "    inputs = Input((128, 128, 1))\n",
        "    \n",
        "    c1, p1 = down_samp(inputs, f[0])\n",
        "    c2, p2 = down_samp(p1, f[1])\n",
        "    \n",
        "    bn = bottlenock(p2, f[2])\n",
        "    \n",
        "    d1 = up_samp(bn, c2, f[1])\n",
        "    d2 = up_samp(d1, c1, f[0])\n",
        " \n",
        "    outputs = Conv2D(3, (1, 1), padding=\"same\", activation=\"softmax\")(d2)\n",
        "  \n",
        "    model = Model(inputs, outputs)\n",
        "    \n",
        "    return model"
      ],
      "execution_count": 19,
      "outputs": []
    },
    {
      "cell_type": "code",
      "metadata": {
        "id": "w6sY8mrGOqMd"
      },
      "source": [
        "def dice_coefficient(y_true, y_pred):\n",
        "\n",
        "  intersection = K.sum(y_true * y_pred, axis=[1,2,3])\n",
        "  union = K.sum(y_true, axis=[1,2,3]) + K.sum(y_pred, axis=[1,2,3])\n",
        "\n",
        "  dice_coef = K.mean((2. * intersection)/union, axis=0)\n",
        "  \n",
        "  return dice_coef"
      ],
      "execution_count": 20,
      "outputs": []
    },
    {
      "cell_type": "code",
      "metadata": {
        "colab": {
          "base_uri": "https://localhost:8080/"
        },
        "id": "JJ1gnXaYOsN5",
        "outputId": "4e28f0b8-1c7e-47d6-e1ce-cb86e294144d"
      },
      "source": [
        "model = unet()\n",
        "model.compile(optimizer='adam', \n",
        "              loss = 'categorical_crossentropy',\n",
        "              metrics = [dice_coefficient])\n",
        "model.summary()"
      ],
      "execution_count": 21,
      "outputs": [
        {
          "output_type": "stream",
          "text": [
            "Model: \"model_1\"\n",
            "__________________________________________________________________________________________________\n",
            "Layer (type)                    Output Shape         Param #     Connected to                     \n",
            "==================================================================================================\n",
            "input_2 (InputLayer)            [(None, 128, 128, 1) 0                                            \n",
            "__________________________________________________________________________________________________\n",
            "conv2d_11 (Conv2D)              (None, 128, 128, 8)  80          input_2[0][0]                    \n",
            "__________________________________________________________________________________________________\n",
            "conv2d_12 (Conv2D)              (None, 128, 128, 8)  584         conv2d_11[0][0]                  \n",
            "__________________________________________________________________________________________________\n",
            "max_pooling2d_2 (MaxPooling2D)  (None, 64, 64, 8)    0           conv2d_12[0][0]                  \n",
            "__________________________________________________________________________________________________\n",
            "conv2d_13 (Conv2D)              (None, 64, 64, 16)   1168        max_pooling2d_2[0][0]            \n",
            "__________________________________________________________________________________________________\n",
            "conv2d_14 (Conv2D)              (None, 64, 64, 16)   2320        conv2d_13[0][0]                  \n",
            "__________________________________________________________________________________________________\n",
            "max_pooling2d_3 (MaxPooling2D)  (None, 32, 32, 16)   0           conv2d_14[0][0]                  \n",
            "__________________________________________________________________________________________________\n",
            "conv2d_15 (Conv2D)              (None, 32, 32, 32)   4640        max_pooling2d_3[0][0]            \n",
            "__________________________________________________________________________________________________\n",
            "conv2d_16 (Conv2D)              (None, 32, 32, 32)   9248        conv2d_15[0][0]                  \n",
            "__________________________________________________________________________________________________\n",
            "up_sampling2d_2 (UpSampling2D)  (None, 64, 64, 32)   0           conv2d_16[0][0]                  \n",
            "__________________________________________________________________________________________________\n",
            "concatenate_2 (Concatenate)     (None, 64, 64, 48)   0           up_sampling2d_2[0][0]            \n",
            "                                                                 conv2d_14[0][0]                  \n",
            "__________________________________________________________________________________________________\n",
            "conv2d_17 (Conv2D)              (None, 64, 64, 16)   6928        concatenate_2[0][0]              \n",
            "__________________________________________________________________________________________________\n",
            "conv2d_18 (Conv2D)              (None, 64, 64, 16)   2320        conv2d_17[0][0]                  \n",
            "__________________________________________________________________________________________________\n",
            "up_sampling2d_3 (UpSampling2D)  (None, 128, 128, 16) 0           conv2d_18[0][0]                  \n",
            "__________________________________________________________________________________________________\n",
            "concatenate_3 (Concatenate)     (None, 128, 128, 24) 0           up_sampling2d_3[0][0]            \n",
            "                                                                 conv2d_12[0][0]                  \n",
            "__________________________________________________________________________________________________\n",
            "conv2d_19 (Conv2D)              (None, 128, 128, 8)  1736        concatenate_3[0][0]              \n",
            "__________________________________________________________________________________________________\n",
            "conv2d_20 (Conv2D)              (None, 128, 128, 8)  584         conv2d_19[0][0]                  \n",
            "__________________________________________________________________________________________________\n",
            "conv2d_21 (Conv2D)              (None, 128, 128, 3)  27          conv2d_20[0][0]                  \n",
            "==================================================================================================\n",
            "Total params: 29,635\n",
            "Trainable params: 29,635\n",
            "Non-trainable params: 0\n",
            "__________________________________________________________________________________________________\n"
          ],
          "name": "stdout"
        }
      ]
    },
    {
      "cell_type": "markdown",
      "metadata": {
        "id": "eQWEpfEzd_WT"
      },
      "source": [
        "**TRAINING THE MODEL**"
      ]
    },
    {
      "cell_type": "code",
      "metadata": {
        "colab": {
          "base_uri": "https://localhost:8080/"
        },
        "id": "JfuWpH4DexjU",
        "outputId": "8a277e3d-fae2-49dc-83fe-d5483cd51554"
      },
      "source": [
        "history = model.fit(train_images,\n",
        "                    train_masks,\n",
        "                    epochs=18,\n",
        "                    validation_data=(valid_images, valid_masks))"
      ],
      "execution_count": 22,
      "outputs": [
        {
          "output_type": "stream",
          "text": [
            "Epoch 1/18\n",
            "66/66 [==============================] - 152s 2s/step - loss: 0.5025 - dice_coefficient: 0.7361 - val_loss: 0.2967 - val_dice_coefficient: 0.8675\n",
            "Epoch 2/18\n",
            "66/66 [==============================] - 160s 2s/step - loss: 0.2096 - dice_coefficient: 0.8880 - val_loss: 0.1677 - val_dice_coefficient: 0.9026\n",
            "Epoch 3/18\n",
            "66/66 [==============================] - 160s 2s/step - loss: 0.1369 - dice_coefficient: 0.9214 - val_loss: 0.1302 - val_dice_coefficient: 0.9213\n",
            "Epoch 4/18\n",
            "66/66 [==============================] - 150s 2s/step - loss: 0.1097 - dice_coefficient: 0.9338 - val_loss: 0.1103 - val_dice_coefficient: 0.9322\n",
            "Epoch 5/18\n",
            "66/66 [==============================] - 160s 2s/step - loss: 0.1046 - dice_coefficient: 0.9364 - val_loss: 0.1039 - val_dice_coefficient: 0.9352\n",
            "Epoch 6/18\n",
            "66/66 [==============================] - 160s 2s/step - loss: 0.0909 - dice_coefficient: 0.9438 - val_loss: 0.0920 - val_dice_coefficient: 0.9458\n",
            "Epoch 7/18\n",
            "66/66 [==============================] - 160s 2s/step - loss: 0.0776 - dice_coefficient: 0.9534 - val_loss: 0.0793 - val_dice_coefficient: 0.9523\n",
            "Epoch 8/18\n",
            "66/66 [==============================] - 151s 2s/step - loss: 0.0663 - dice_coefficient: 0.9609 - val_loss: 0.0651 - val_dice_coefficient: 0.9600\n",
            "Epoch 9/18\n",
            "66/66 [==============================] - 151s 2s/step - loss: 0.0594 - dice_coefficient: 0.9654 - val_loss: 0.0620 - val_dice_coefficient: 0.9669\n",
            "Epoch 10/18\n",
            "66/66 [==============================] - 160s 2s/step - loss: 0.0510 - dice_coefficient: 0.9704 - val_loss: 0.0492 - val_dice_coefficient: 0.9720\n",
            "Epoch 11/18\n",
            "66/66 [==============================] - 160s 2s/step - loss: 0.0471 - dice_coefficient: 0.9730 - val_loss: 0.0487 - val_dice_coefficient: 0.9721\n",
            "Epoch 12/18\n",
            "66/66 [==============================] - 151s 2s/step - loss: 0.0492 - dice_coefficient: 0.9725 - val_loss: 0.0518 - val_dice_coefficient: 0.9725\n",
            "Epoch 13/18\n",
            "66/66 [==============================] - 151s 2s/step - loss: 0.0402 - dice_coefficient: 0.9768 - val_loss: 0.0389 - val_dice_coefficient: 0.9783\n",
            "Epoch 14/18\n",
            "66/66 [==============================] - 160s 2s/step - loss: 0.0354 - dice_coefficient: 0.9801 - val_loss: 0.0352 - val_dice_coefficient: 0.9803\n",
            "Epoch 15/18\n",
            "66/66 [==============================] - 148s 2s/step - loss: 0.0341 - dice_coefficient: 0.9809 - val_loss: 0.0344 - val_dice_coefficient: 0.9803\n",
            "Epoch 16/18\n",
            "66/66 [==============================] - 147s 2s/step - loss: 0.0310 - dice_coefficient: 0.9827 - val_loss: 0.0333 - val_dice_coefficient: 0.9822\n",
            "Epoch 17/18\n",
            "66/66 [==============================] - 146s 2s/step - loss: 0.0307 - dice_coefficient: 0.9830 - val_loss: 0.0305 - val_dice_coefficient: 0.9827\n",
            "Epoch 18/18\n",
            "66/66 [==============================] - 156s 2s/step - loss: 0.0313 - dice_coefficient: 0.9829 - val_loss: 0.0307 - val_dice_coefficient: 0.9835\n"
          ],
          "name": "stdout"
        }
      ]
    },
    {
      "cell_type": "markdown",
      "metadata": {
        "id": "DbhPeVxieIc2"
      },
      "source": [
        "**DICE COEFFICIENT AND LOSS PLOT**"
      ]
    },
    {
      "cell_type": "code",
      "metadata": {
        "id": "0uCsNzjq91R-",
        "colab": {
          "base_uri": "https://localhost:8080/",
          "height": 295
        },
        "outputId": "5fa3b66b-ca9c-49e5-b165-143ffbfdcb23"
      },
      "source": [
        "plt.plot(history.history['dice_coefficient'], label='Dice Coefficient(train)')\n",
        "plt.plot(history.history['val_dice_coefficient'], label = 'Dice Coefficient(validation)')\n",
        "plt.xlim([0, 13])\n",
        "plt.ylim([0.7, 1])\n",
        "plt.xlabel('Epoch')\n",
        "plt.ylabel('Dice Coefficient')\n",
        "plt.title('Epochs vs Dice Coefficient')\n",
        "plt.legend(bbox_to_anchor=(1.05, 1), loc='upper left')\n",
        "plt.show()"
      ],
      "execution_count": 23,
      "outputs": [
        {
          "output_type": "display_data",
          "data": {
            "image/png": "[encoded data removed]",
            "text/plain": [
              "<Figure size 432x288 with 1 Axes>"
            ]
          },
          "metadata": {
            "tags": [],
            "needs_background": "light"
          }
        }
      ]
    },
    {
      "cell_type": "code",
      "metadata": {
        "colab": {
          "base_uri": "https://localhost:8080/",
          "height": 295
        },
        "id": "l5x88H28ObjU",
        "outputId": "9e894c7a-beed-46d5-8ca9-b7961057ee9b"
      },
      "source": [
        "plt.plot(history.history['loss'], label='Loss(train)')\n",
        "plt.plot(history.history['val_loss'], label = 'Loss(validation)')\n",
        "plt.xlim([1, 13])\n",
        "plt.ylim([0.0, 0.3])\n",
        "plt.xlabel('Epoch')\n",
        "plt.ylabel('Loss')\n",
        "plt.title('Epochs vs Loss')\n",
        "plt.legend(bbox_to_anchor=(1.05, 1), loc='upper left')\n",
        "plt.show()"
      ],
      "execution_count": 24,
      "outputs": [
        {
          "output_type": "display_data",
          "data": {
            "image/png": "[encoded data removed]",
            "text/plain": [
              "<Figure size 432x288 with 1 Axes>"
            ]
          },
          "metadata": {
            "tags": [],
            "needs_background": "light"
          }
        }
      ]
    },
    {
      "cell_type": "markdown",
      "metadata": {
        "id": "UrvUWlaD7E_B"
      },
      "source": [
        "**EVALUATION ON TEST DATA-SET**"
      ]
    },
    {
      "cell_type": "code",
      "metadata": {
        "colab": {
          "base_uri": "https://localhost:8080/"
        },
        "id": "WdA_28Qg7Kz_",
        "outputId": "6de90b1a-1fe7-46d0-c94b-a74856000b4f"
      },
      "source": [
        "evalu = model.evaluate(test_images, test_masks, verbose=0)\n",
        "print('The Dice Coefficient of model on Test Data-Set is = '\"{:.2f}\".format(evalu[1]*100), '%')"
      ],
      "execution_count": 25,
      "outputs": [
        {
          "output_type": "stream",
          "text": [
            "The Dice Coefficient of model on Test Data-Set is = 98.42 %\n"
          ],
          "name": "stdout"
        }
      ]
    }
  ]
}